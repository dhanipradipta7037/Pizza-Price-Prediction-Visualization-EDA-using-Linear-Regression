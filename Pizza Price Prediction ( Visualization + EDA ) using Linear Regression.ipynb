{
 "cells": [
  {
   "cell_type": "markdown",
   "id": "f66b9006",
   "metadata": {},
   "source": [
    "### IMPORT LIBRARIES"
   ]
  },
  {
   "cell_type": "code",
   "execution_count": 3,
   "id": "a9cf8c67",
   "metadata": {},
   "outputs": [],
   "source": [
    "import pandas as pd\n",
    "import matplotlib.pyplot as plt\n",
    "import seaborn as sns\n",
    "import numpy as np\n",
    "\n",
    "from sklearn import linear_model\n",
    "from sklearn.model_selection import train_test_split\n",
    "from sklearn.preprocessing import LabelEncoder\n",
    "from sklearn.linear_model import LinearRegression"
   ]
  },
  {
   "cell_type": "markdown",
   "id": "cb9d8c0d",
   "metadata": {},
   "source": [
    "### IMPORT DATA"
   ]
  },
  {
   "cell_type": "code",
   "execution_count": 4,
   "id": "24ac6202",
   "metadata": {},
   "outputs": [
    {
     "data": {
      "text/html": [
       "<div>\n",
       "<style scoped>\n",
       "    .dataframe tbody tr th:only-of-type {\n",
       "        vertical-align: middle;\n",
       "    }\n",
       "\n",
       "    .dataframe tbody tr th {\n",
       "        vertical-align: top;\n",
       "    }\n",
       "\n",
       "    .dataframe thead th {\n",
       "        text-align: right;\n",
       "    }\n",
       "</style>\n",
       "<table border=\"1\" class=\"dataframe\">\n",
       "  <thead>\n",
       "    <tr style=\"text-align: right;\">\n",
       "      <th></th>\n",
       "      <th>company</th>\n",
       "      <th>price_rupiah</th>\n",
       "      <th>diameter</th>\n",
       "      <th>topping</th>\n",
       "      <th>variant</th>\n",
       "      <th>size</th>\n",
       "      <th>extra_sauce</th>\n",
       "      <th>extra_cheese</th>\n",
       "    </tr>\n",
       "  </thead>\n",
       "  <tbody>\n",
       "    <tr>\n",
       "      <th>0</th>\n",
       "      <td>A</td>\n",
       "      <td>Rp235,000</td>\n",
       "      <td>22.0</td>\n",
       "      <td>chicken</td>\n",
       "      <td>double_signature</td>\n",
       "      <td>jumbo</td>\n",
       "      <td>yes</td>\n",
       "      <td>yes</td>\n",
       "    </tr>\n",
       "    <tr>\n",
       "      <th>1</th>\n",
       "      <td>A</td>\n",
       "      <td>Rp198,000</td>\n",
       "      <td>20.0</td>\n",
       "      <td>papperoni</td>\n",
       "      <td>double_signature</td>\n",
       "      <td>jumbo</td>\n",
       "      <td>yes</td>\n",
       "      <td>yes</td>\n",
       "    </tr>\n",
       "    <tr>\n",
       "      <th>2</th>\n",
       "      <td>A</td>\n",
       "      <td>Rp120,000</td>\n",
       "      <td>16.0</td>\n",
       "      <td>mushrooms</td>\n",
       "      <td>double_signature</td>\n",
       "      <td>reguler</td>\n",
       "      <td>yes</td>\n",
       "      <td>yes</td>\n",
       "    </tr>\n",
       "    <tr>\n",
       "      <th>3</th>\n",
       "      <td>A</td>\n",
       "      <td>Rp155,000</td>\n",
       "      <td>14.0</td>\n",
       "      <td>smoked beef</td>\n",
       "      <td>double_signature</td>\n",
       "      <td>reguler</td>\n",
       "      <td>yes</td>\n",
       "      <td>no</td>\n",
       "    </tr>\n",
       "    <tr>\n",
       "      <th>4</th>\n",
       "      <td>A</td>\n",
       "      <td>Rp155,000</td>\n",
       "      <td>14.0</td>\n",
       "      <td>smoked beef</td>\n",
       "      <td>NaN</td>\n",
       "      <td>reguler</td>\n",
       "      <td>yes</td>\n",
       "      <td>no</td>\n",
       "    </tr>\n",
       "  </tbody>\n",
       "</table>\n",
       "</div>"
      ],
      "text/plain": [
       "  company price_rupiah  diameter      topping           variant     size  \\\n",
       "0       A    Rp235,000      22.0      chicken  double_signature    jumbo   \n",
       "1       A    Rp198,000      20.0    papperoni  double_signature    jumbo   \n",
       "2       A    Rp120,000      16.0    mushrooms  double_signature  reguler   \n",
       "3       A    Rp155,000      14.0  smoked beef  double_signature  reguler   \n",
       "4       A    Rp155,000      14.0  smoked beef               NaN  reguler   \n",
       "\n",
       "  extra_sauce extra_cheese  \n",
       "0         yes          yes  \n",
       "1         yes          yes  \n",
       "2         yes          yes  \n",
       "3         yes           no  \n",
       "4         yes           no  "
      ]
     },
     "execution_count": 4,
     "metadata": {},
     "output_type": "execute_result"
    }
   ],
   "source": [
    "df = pd.read_csv(\"pizza.csv\")\n",
    "df.head()"
   ]
  },
  {
   "cell_type": "markdown",
   "id": "a70f35e4",
   "metadata": {},
   "source": [
    "### CHECK DATA"
   ]
  },
  {
   "cell_type": "code",
   "execution_count": 5,
   "id": "9a0fed44",
   "metadata": {},
   "outputs": [
    {
     "data": {
      "text/plain": [
       "(136, 8)"
      ]
     },
     "execution_count": 5,
     "metadata": {},
     "output_type": "execute_result"
    }
   ],
   "source": [
    "df.shape #mengecek jumlah baris dan kolom yang ada pada data"
   ]
  },
  {
   "cell_type": "code",
   "execution_count": 6,
   "id": "f83ec7a0",
   "metadata": {},
   "outputs": [
    {
     "name": "stdout",
     "output_type": "stream",
     "text": [
      "<class 'pandas.core.frame.DataFrame'>\n",
      "RangeIndex: 136 entries, 0 to 135\n",
      "Data columns (total 8 columns):\n",
      " #   Column        Non-Null Count  Dtype  \n",
      "---  ------        --------------  -----  \n",
      " 0   company       136 non-null    object \n",
      " 1   price_rupiah  136 non-null    object \n",
      " 2   diameter      136 non-null    float64\n",
      " 3   topping       135 non-null    object \n",
      " 4   variant       135 non-null    object \n",
      " 5   size          135 non-null    object \n",
      " 6   extra_sauce   131 non-null    object \n",
      " 7   extra_cheese  136 non-null    object \n",
      "dtypes: float64(1), object(7)\n",
      "memory usage: 8.6+ KB\n"
     ]
    }
   ],
   "source": [
    "df.info() #Informasi mengenai data"
   ]
  },
  {
   "cell_type": "code",
   "execution_count": 7,
   "id": "ccd5ff5e",
   "metadata": {},
   "outputs": [
    {
     "data": {
      "text/plain": [
       "company         0\n",
       "price_rupiah    0\n",
       "diameter        0\n",
       "topping         1\n",
       "variant         1\n",
       "size            1\n",
       "extra_sauce     5\n",
       "extra_cheese    0\n",
       "dtype: int64"
      ]
     },
     "execution_count": 7,
     "metadata": {},
     "output_type": "execute_result"
    }
   ],
   "source": [
    "df.isnull().sum() #cek data yang mising"
   ]
  },
  {
   "cell_type": "markdown",
   "id": "97bd6ca1",
   "metadata": {},
   "source": [
    "### CLEANING MISSING VALUE"
   ]
  },
  {
   "cell_type": "code",
   "execution_count": 8,
   "id": "e0037881",
   "metadata": {},
   "outputs": [
    {
     "name": "stdout",
     "output_type": "stream",
     "text": [
      "<class 'pandas.core.frame.DataFrame'>\n",
      "Int64Index: 134 entries, 0 to 135\n",
      "Data columns (total 8 columns):\n",
      " #   Column        Non-Null Count  Dtype  \n",
      "---  ------        --------------  -----  \n",
      " 0   company       134 non-null    object \n",
      " 1   price_rupiah  134 non-null    object \n",
      " 2   diameter      134 non-null    float64\n",
      " 3   topping       134 non-null    object \n",
      " 4   variant       134 non-null    object \n",
      " 5   size          134 non-null    object \n",
      " 6   extra_sauce   129 non-null    object \n",
      " 7   extra_cheese  134 non-null    object \n",
      "dtypes: float64(1), object(7)\n",
      "memory usage: 9.4+ KB\n",
      "None\n"
     ]
    }
   ],
   "source": [
    "df = df.dropna(subset=['topping', 'variant', 'size'], inplace=False)\n",
    "print(df.info())"
   ]
  },
  {
   "cell_type": "markdown",
   "id": "c6f8a53c",
   "metadata": {},
   "source": [
    "### FILLING ANY MISSING VALUES"
   ]
  },
  {
   "cell_type": "code",
   "execution_count": 9,
   "id": "977db042",
   "metadata": {},
   "outputs": [
    {
     "data": {
      "text/html": [
       "<div>\n",
       "<style scoped>\n",
       "    .dataframe tbody tr th:only-of-type {\n",
       "        vertical-align: middle;\n",
       "    }\n",
       "\n",
       "    .dataframe tbody tr th {\n",
       "        vertical-align: top;\n",
       "    }\n",
       "\n",
       "    .dataframe thead th {\n",
       "        text-align: right;\n",
       "    }\n",
       "</style>\n",
       "<table border=\"1\" class=\"dataframe\">\n",
       "  <thead>\n",
       "    <tr style=\"text-align: right;\">\n",
       "      <th></th>\n",
       "      <th>company</th>\n",
       "      <th>price_rupiah</th>\n",
       "      <th>diameter</th>\n",
       "      <th>topping</th>\n",
       "      <th>variant</th>\n",
       "      <th>size</th>\n",
       "      <th>extra_sauce</th>\n",
       "      <th>extra_cheese</th>\n",
       "    </tr>\n",
       "  </thead>\n",
       "  <tbody>\n",
       "    <tr>\n",
       "      <th>19</th>\n",
       "      <td>A</td>\n",
       "      <td>Rp70,000</td>\n",
       "      <td>8.0</td>\n",
       "      <td>chicken</td>\n",
       "      <td>meat_lovers</td>\n",
       "      <td>reguler</td>\n",
       "      <td>NaN</td>\n",
       "      <td>yes</td>\n",
       "    </tr>\n",
       "    <tr>\n",
       "      <th>43</th>\n",
       "      <td>B</td>\n",
       "      <td>Rp76,000</td>\n",
       "      <td>12.0</td>\n",
       "      <td>chicken</td>\n",
       "      <td>crunchy</td>\n",
       "      <td>medium</td>\n",
       "      <td>NaN</td>\n",
       "      <td>no</td>\n",
       "    </tr>\n",
       "    <tr>\n",
       "      <th>62</th>\n",
       "      <td>C</td>\n",
       "      <td>Rp99,000</td>\n",
       "      <td>14.0</td>\n",
       "      <td>sausage</td>\n",
       "      <td>BBQ_sausage</td>\n",
       "      <td>large</td>\n",
       "      <td>NaN</td>\n",
       "      <td>yes</td>\n",
       "    </tr>\n",
       "    <tr>\n",
       "      <th>95</th>\n",
       "      <td>D</td>\n",
       "      <td>Rp23,500</td>\n",
       "      <td>8.5</td>\n",
       "      <td>mozzarella</td>\n",
       "      <td>classic</td>\n",
       "      <td>small</td>\n",
       "      <td>NaN</td>\n",
       "      <td>no</td>\n",
       "    </tr>\n",
       "    <tr>\n",
       "      <th>135</th>\n",
       "      <td>E</td>\n",
       "      <td>Rp78,000</td>\n",
       "      <td>12.0</td>\n",
       "      <td>meat</td>\n",
       "      <td>BBQ_meat_fiesta</td>\n",
       "      <td>medium</td>\n",
       "      <td>NaN</td>\n",
       "      <td>no</td>\n",
       "    </tr>\n",
       "  </tbody>\n",
       "</table>\n",
       "</div>"
      ],
      "text/plain": [
       "    company price_rupiah  diameter     topping          variant     size  \\\n",
       "19        A     Rp70,000       8.0     chicken      meat_lovers  reguler   \n",
       "43        B     Rp76,000      12.0     chicken          crunchy   medium   \n",
       "62        C     Rp99,000      14.0     sausage      BBQ_sausage    large   \n",
       "95        D     Rp23,500       8.5  mozzarella          classic    small   \n",
       "135       E     Rp78,000      12.0        meat  BBQ_meat_fiesta   medium   \n",
       "\n",
       "    extra_sauce extra_cheese  \n",
       "19          NaN          yes  \n",
       "43          NaN           no  \n",
       "62          NaN          yes  \n",
       "95          NaN           no  \n",
       "135         NaN           no  "
      ]
     },
     "execution_count": 9,
     "metadata": {},
     "output_type": "execute_result"
    }
   ],
   "source": [
    "df[df.isna().any(axis=1)]"
   ]
  },
  {
   "cell_type": "code",
   "execution_count": 10,
   "id": "e1e5c932",
   "metadata": {},
   "outputs": [
    {
     "data": {
      "text/html": [
       "<div>\n",
       "<style scoped>\n",
       "    .dataframe tbody tr th:only-of-type {\n",
       "        vertical-align: middle;\n",
       "    }\n",
       "\n",
       "    .dataframe tbody tr th {\n",
       "        vertical-align: top;\n",
       "    }\n",
       "\n",
       "    .dataframe thead th {\n",
       "        text-align: right;\n",
       "    }\n",
       "</style>\n",
       "<table border=\"1\" class=\"dataframe\">\n",
       "  <thead>\n",
       "    <tr style=\"text-align: right;\">\n",
       "      <th></th>\n",
       "      <th>company</th>\n",
       "      <th>price_rupiah</th>\n",
       "      <th>diameter</th>\n",
       "      <th>topping</th>\n",
       "      <th>variant</th>\n",
       "      <th>size</th>\n",
       "      <th>extra_cheese</th>\n",
       "    </tr>\n",
       "    <tr>\n",
       "      <th>extra_sauce</th>\n",
       "      <th></th>\n",
       "      <th></th>\n",
       "      <th></th>\n",
       "      <th></th>\n",
       "      <th></th>\n",
       "      <th></th>\n",
       "      <th></th>\n",
       "    </tr>\n",
       "  </thead>\n",
       "  <tbody>\n",
       "    <tr>\n",
       "      <th>no</th>\n",
       "      <td>53</td>\n",
       "      <td>53</td>\n",
       "      <td>53</td>\n",
       "      <td>53</td>\n",
       "      <td>53</td>\n",
       "      <td>53</td>\n",
       "      <td>53</td>\n",
       "    </tr>\n",
       "    <tr>\n",
       "      <th>yes</th>\n",
       "      <td>76</td>\n",
       "      <td>76</td>\n",
       "      <td>76</td>\n",
       "      <td>76</td>\n",
       "      <td>76</td>\n",
       "      <td>76</td>\n",
       "      <td>76</td>\n",
       "    </tr>\n",
       "  </tbody>\n",
       "</table>\n",
       "</div>"
      ],
      "text/plain": [
       "             company  price_rupiah  diameter  topping  variant  size  \\\n",
       "extra_sauce                                                            \n",
       "no                53            53        53       53       53    53   \n",
       "yes               76            76        76       76       76    76   \n",
       "\n",
       "             extra_cheese  \n",
       "extra_sauce                \n",
       "no                     53  \n",
       "yes                    76  "
      ]
     },
     "execution_count": 10,
     "metadata": {},
     "output_type": "execute_result"
    }
   ],
   "source": [
    "df.groupby('extra_sauce').count()"
   ]
  },
  {
   "cell_type": "code",
   "execution_count": 11,
   "id": "6474da60",
   "metadata": {},
   "outputs": [
    {
     "data": {
      "text/html": [
       "<div>\n",
       "<style scoped>\n",
       "    .dataframe tbody tr th:only-of-type {\n",
       "        vertical-align: middle;\n",
       "    }\n",
       "\n",
       "    .dataframe tbody tr th {\n",
       "        vertical-align: top;\n",
       "    }\n",
       "\n",
       "    .dataframe thead th {\n",
       "        text-align: right;\n",
       "    }\n",
       "</style>\n",
       "<table border=\"1\" class=\"dataframe\">\n",
       "  <thead>\n",
       "    <tr style=\"text-align: right;\">\n",
       "      <th></th>\n",
       "      <th>company</th>\n",
       "      <th>price_rupiah</th>\n",
       "      <th>diameter</th>\n",
       "      <th>topping</th>\n",
       "      <th>variant</th>\n",
       "      <th>size</th>\n",
       "      <th>extra_sauce</th>\n",
       "      <th>extra_cheese</th>\n",
       "    </tr>\n",
       "  </thead>\n",
       "  <tbody>\n",
       "  </tbody>\n",
       "</table>\n",
       "</div>"
      ],
      "text/plain": [
       "Empty DataFrame\n",
       "Columns: [company, price_rupiah, diameter, topping, variant, size, extra_sauce, extra_cheese]\n",
       "Index: []"
      ]
     },
     "execution_count": 11,
     "metadata": {},
     "output_type": "execute_result"
    }
   ],
   "source": [
    "# mengisi missing value pada kolom \"extra_sauce\" dengan \"yes\" (karena muncul lebih sering berdasarkan cell sebelumnya)\n",
    "df['extra_sauce']=df['extra_sauce'].fillna(\"yes\")\n",
    "df[df.isna().any(axis=1)]"
   ]
  },
  {
   "cell_type": "markdown",
   "id": "cb1b8d9b",
   "metadata": {},
   "source": [
    "### CONVERT DATA TYPES"
   ]
  },
  {
   "cell_type": "code",
   "execution_count": 12,
   "id": "1a85e99e",
   "metadata": {},
   "outputs": [
    {
     "data": {
      "text/plain": [
       "94      Rp23,500\n",
       "112     Rp31,000\n",
       "26     Rp149,000\n",
       "107     Rp46,000\n",
       "90     Rp188,000\n",
       "Name: price_rupiah, dtype: object"
      ]
     },
     "execution_count": 12,
     "metadata": {},
     "output_type": "execute_result"
    }
   ],
   "source": [
    "df['price_rupiah'].sample(5)"
   ]
  },
  {
   "cell_type": "code",
   "execution_count": 13,
   "id": "9c3cb995",
   "metadata": {},
   "outputs": [],
   "source": [
    "#menghapus string & spesial karakter pada kolom price_rupiah & ubah object ke Int\n",
    "df['price_rupiah'] = df['price_rupiah'].str.replace('Rp','')\n",
    "df['price_rupiah'] = df['price_rupiah'].str.replace(',','')\n",
    "df['price_rupiah'] = pd.to_numeric(df['price_rupiah'])"
   ]
  },
  {
   "cell_type": "code",
   "execution_count": 14,
   "id": "aa1cba9a",
   "metadata": {},
   "outputs": [
    {
     "data": {
      "text/plain": [
       "dtype('int64')"
      ]
     },
     "execution_count": 14,
     "metadata": {},
     "output_type": "execute_result"
    }
   ],
   "source": [
    "df['price_rupiah'].dtype # cek type data pada kolom \"price_rupiah\""
   ]
  },
  {
   "cell_type": "markdown",
   "id": "575d5a5c",
   "metadata": {},
   "source": [
    "### CHECK UNIQUE VALUES"
   ]
  },
  {
   "cell_type": "code",
   "execution_count": 15,
   "id": "e1526483",
   "metadata": {},
   "outputs": [
    {
     "data": {
      "text/plain": [
       "array(['chicken', 'papperoni', 'mushrooms', 'smoked beef', 'mozzarella',\n",
       "       'black papper', 'tuna', 'meat', 'sausage', 'onion', 'vegetables',\n",
       "       'beef'], dtype=object)"
      ]
     },
     "execution_count": 15,
     "metadata": {},
     "output_type": "execute_result"
    }
   ],
   "source": [
    "df['topping'].unique()"
   ]
  },
  {
   "cell_type": "code",
   "execution_count": 16,
   "id": "4b3beb1b",
   "metadata": {},
   "outputs": [
    {
     "data": {
      "text/plain": [
       "array(['double_signature', 'american_favorite', 'super_supreme',\n",
       "       'meat_lovers', 'double_mix', 'classic', 'crunchy', 'new_york',\n",
       "       'double_decker', 'spicy_tuna', 'BBQ_meat_fiesta', 'BBQ_sausage',\n",
       "       'extravaganza', 'meat_eater', 'gournet_greek', 'italian_veggie',\n",
       "       'thai_veggie', 'american_classic', 'neptune_tuna', 'spicy tuna'],\n",
       "      dtype=object)"
      ]
     },
     "execution_count": 16,
     "metadata": {},
     "output_type": "execute_result"
    }
   ],
   "source": [
    "df['variant'].unique()"
   ]
  },
  {
   "cell_type": "markdown",
   "id": "6aaf7d1f",
   "metadata": {},
   "source": [
    "### EDA (EXPLANATORY DATA ANALYSIS)"
   ]
  },
  {
   "cell_type": "code",
   "execution_count": 17,
   "id": "eeb100d3",
   "metadata": {},
   "outputs": [
    {
     "data": {
      "text/html": [
       "<div>\n",
       "<style scoped>\n",
       "    .dataframe tbody tr th:only-of-type {\n",
       "        vertical-align: middle;\n",
       "    }\n",
       "\n",
       "    .dataframe tbody tr th {\n",
       "        vertical-align: top;\n",
       "    }\n",
       "\n",
       "    .dataframe thead th {\n",
       "        text-align: right;\n",
       "    }\n",
       "</style>\n",
       "<table border=\"1\" class=\"dataframe\">\n",
       "  <thead>\n",
       "    <tr style=\"text-align: right;\">\n",
       "      <th></th>\n",
       "      <th>price_rupiah</th>\n",
       "      <th>diameter</th>\n",
       "    </tr>\n",
       "  </thead>\n",
       "  <tbody>\n",
       "    <tr>\n",
       "      <th>count</th>\n",
       "      <td>134.000000</td>\n",
       "      <td>134.000000</td>\n",
       "    </tr>\n",
       "    <tr>\n",
       "      <th>mean</th>\n",
       "      <td>86485.074627</td>\n",
       "      <td>12.899254</td>\n",
       "    </tr>\n",
       "    <tr>\n",
       "      <th>std</th>\n",
       "      <td>44253.199209</td>\n",
       "      <td>3.265092</td>\n",
       "    </tr>\n",
       "    <tr>\n",
       "      <th>min</th>\n",
       "      <td>23500.000000</td>\n",
       "      <td>8.000000</td>\n",
       "    </tr>\n",
       "    <tr>\n",
       "      <th>25%</th>\n",
       "      <td>51750.000000</td>\n",
       "      <td>12.000000</td>\n",
       "    </tr>\n",
       "    <tr>\n",
       "      <th>50%</th>\n",
       "      <td>78000.000000</td>\n",
       "      <td>12.000000</td>\n",
       "    </tr>\n",
       "    <tr>\n",
       "      <th>75%</th>\n",
       "      <td>103500.000000</td>\n",
       "      <td>14.000000</td>\n",
       "    </tr>\n",
       "    <tr>\n",
       "      <th>max</th>\n",
       "      <td>248000.000000</td>\n",
       "      <td>22.000000</td>\n",
       "    </tr>\n",
       "  </tbody>\n",
       "</table>\n",
       "</div>"
      ],
      "text/plain": [
       "        price_rupiah    diameter\n",
       "count     134.000000  134.000000\n",
       "mean    86485.074627   12.899254\n",
       "std     44253.199209    3.265092\n",
       "min     23500.000000    8.000000\n",
       "25%     51750.000000   12.000000\n",
       "50%     78000.000000   12.000000\n",
       "75%    103500.000000   14.000000\n",
       "max    248000.000000   22.000000"
      ]
     },
     "execution_count": 17,
     "metadata": {},
     "output_type": "execute_result"
    }
   ],
   "source": [
    "df.describe()"
   ]
  },
  {
   "cell_type": "code",
   "execution_count": 18,
   "id": "2fb590b4",
   "metadata": {},
   "outputs": [
    {
     "data": {
      "image/png": "[encoded data removed]",
      "text/plain": [
       "<Figure size 1080x720 with 1 Axes>"
      ]
     },
     "metadata": {
      "needs_background": "light"
     },
     "output_type": "display_data"
    }
   ],
   "source": [
    "plt.figure(figsize=(15,10))\n",
    "my_color='red','blue','green','purple','brown','pink','gray','gold','cyan','magenta','silver','seagreen'\n",
    "ax=df['diameter'].value_counts().plot.bar(color=my_color, rot=0)\n",
    "plt.xlabel('Diameter')\n",
    "plt.ylabel('Counts')\n",
    "plt.grid(color='red', alpha=0.1, linestyle='--',linewidth=2)\n",
    "ax.bar_label(ax.containers[0])\n",
    "plt.title(\"Barchart for Pizza Diameter\")\n",
    "plt.show()"
   ]
  },
  {
   "cell_type": "code",
   "execution_count": 19,
   "id": "b9209c8d",
   "metadata": {},
   "outputs": [
    {
     "data": {
      "image/png": "[encoded data removed]",
      "text/plain": [
       "<Figure size 1080x720 with 1 Axes>"
      ]
     },
     "metadata": {
      "needs_background": "light"
     },
     "output_type": "display_data"
    }
   ],
   "source": [
    "plt.figure(figsize=(15,10))\n",
    "my_color='red','blue','green','purple','brown','pink','gray','gold','cyan','magenta','silver','seagreen'\n",
    "ax2=df['size'].value_counts().sort_values().plot.barh(color=my_color)\n",
    "plt.xlabel('Counts')\n",
    "plt.ylabel('Size')\n",
    "plt.grid(color='red', alpha=0.1, linestyle='--',linewidth=2)\n",
    "ax2.bar_label(ax2.containers[0])\n",
    "plt.title(\"Pizza Size\")\n",
    "plt.show()"
   ]
  },
  {
   "cell_type": "code",
   "execution_count": 20,
   "id": "aa2b910c",
   "metadata": {},
   "outputs": [
    {
     "data": {
      "image/png": "[encoded data removed]",
      "text/plain": [
       "<Figure size 1080x720 with 1 Axes>"
      ]
     },
     "metadata": {},
     "output_type": "display_data"
    }
   ],
   "source": [
    "df['extra_sauce'].value_counts().plot(kind='pie', figsize=(15,10), autopct='%1.f%%', startangle=90, shadow=True)\n",
    "plt.legend(['Yes', 'No'])\n",
    "plt.title('Pizza with Extra Sauce')\n",
    "plt.show()"
   ]
  },
  {
   "cell_type": "code",
   "execution_count": 21,
   "id": "c6234981",
   "metadata": {},
   "outputs": [
    {
     "data": {
      "image/png": "[encoded data removed]",
      "text/plain": [
       "<Figure size 1080x720 with 1 Axes>"
      ]
     },
     "metadata": {
      "needs_background": "light"
     },
     "output_type": "display_data"
    }
   ],
   "source": [
    "plt.figure(figsize=(15,10))\n",
    "my_color='red','blue','green','purple','brown','pink','gray','gold','cyan','magenta','silver','seagreen'\n",
    "ax2=df['topping'].value_counts().sort_values().plot(kind='barh',color=my_color)\n",
    "plt.xlabel('Counts')\n",
    "plt.ylabel('Topping')\n",
    "ax2.bar_label(ax2.containers[0])\n",
    "plt.title(\"Pizza Topping\")\n",
    "plt.show()"
   ]
  },
  {
   "cell_type": "code",
   "execution_count": 22,
   "id": "c25d71a8",
   "metadata": {},
   "outputs": [
    {
     "data": {
      "image/png": "[encoded data removed]",
      "text/plain": [
       "<Figure size 1080x720 with 1 Axes>"
      ]
     },
     "metadata": {},
     "output_type": "display_data"
    }
   ],
   "source": [
    "df['extra_cheese'].value_counts().plot(kind='pie', figsize=(15,10), autopct='%1.f%%', startangle=90, shadow=True)\n",
    "plt.legend(['Yes', 'No'])\n",
    "plt.title('Pizza with Extra Cheese')\n",
    "plt.show()"
   ]
  },
  {
   "cell_type": "code",
   "execution_count": 23,
   "id": "707f7af3",
   "metadata": {},
   "outputs": [
    {
     "data": {
      "image/png": "[encoded data removed]",
      "text/plain": [
       "<Figure size 1080x720 with 1 Axes>"
      ]
     },
     "metadata": {
      "needs_background": "light"
     },
     "output_type": "display_data"
    }
   ],
   "source": [
    "mean_price = df['price_rupiah'].groupby(df['company']).mean()\n",
    "plt.figure(figsize=(15,10))\n",
    "my_color='red','blue','green','purple','brown','pink','gray','gold','cyan','magenta','silver','seagreen'\n",
    "ax3=mean_price.plot(kind='bar', color=my_color, rot=0)\n",
    "plt.xlabel('Company')\n",
    "plt.ylabel('Price')\n",
    "ax3.bar_label(ax3.containers[0])\n",
    "plt.title(\"SALES BY COMPANY\")\n",
    "plt.show()"
   ]
  },
  {
   "cell_type": "markdown",
   "id": "697a3d1d",
   "metadata": {},
   "source": [
    "### FEATURE ENGINERRING & HEATMAP"
   ]
  },
  {
   "cell_type": "code",
   "execution_count": 24,
   "id": "682bd0c3",
   "metadata": {},
   "outputs": [
    {
     "data": {
      "text/html": [
       "<div>\n",
       "<style scoped>\n",
       "    .dataframe tbody tr th:only-of-type {\n",
       "        vertical-align: middle;\n",
       "    }\n",
       "\n",
       "    .dataframe tbody tr th {\n",
       "        vertical-align: top;\n",
       "    }\n",
       "\n",
       "    .dataframe thead th {\n",
       "        text-align: right;\n",
       "    }\n",
       "</style>\n",
       "<table border=\"1\" class=\"dataframe\">\n",
       "  <thead>\n",
       "    <tr style=\"text-align: right;\">\n",
       "      <th></th>\n",
       "      <th>company</th>\n",
       "      <th>price_rupiah</th>\n",
       "      <th>diameter</th>\n",
       "      <th>topping</th>\n",
       "      <th>variant</th>\n",
       "      <th>size</th>\n",
       "      <th>extra_sauce</th>\n",
       "      <th>extra_cheese</th>\n",
       "    </tr>\n",
       "  </thead>\n",
       "  <tbody>\n",
       "    <tr>\n",
       "      <th>110</th>\n",
       "      <td>4</td>\n",
       "      <td>83000</td>\n",
       "      <td>17.0</td>\n",
       "      <td>2</td>\n",
       "      <td>15</td>\n",
       "      <td>0</td>\n",
       "      <td>0</td>\n",
       "      <td>1</td>\n",
       "    </tr>\n",
       "    <tr>\n",
       "      <th>95</th>\n",
       "      <td>3</td>\n",
       "      <td>23500</td>\n",
       "      <td>8.5</td>\n",
       "      <td>4</td>\n",
       "      <td>4</td>\n",
       "      <td>5</td>\n",
       "      <td>1</td>\n",
       "      <td>0</td>\n",
       "    </tr>\n",
       "    <tr>\n",
       "      <th>133</th>\n",
       "      <td>4</td>\n",
       "      <td>44000</td>\n",
       "      <td>8.5</td>\n",
       "      <td>3</td>\n",
       "      <td>0</td>\n",
       "      <td>5</td>\n",
       "      <td>1</td>\n",
       "      <td>0</td>\n",
       "    </tr>\n",
       "    <tr>\n",
       "      <th>36</th>\n",
       "      <td>1</td>\n",
       "      <td>75000</td>\n",
       "      <td>12.0</td>\n",
       "      <td>5</td>\n",
       "      <td>5</td>\n",
       "      <td>3</td>\n",
       "      <td>0</td>\n",
       "      <td>1</td>\n",
       "    </tr>\n",
       "    <tr>\n",
       "      <th>97</th>\n",
       "      <td>3</td>\n",
       "      <td>72000</td>\n",
       "      <td>14.0</td>\n",
       "      <td>9</td>\n",
       "      <td>4</td>\n",
       "      <td>2</td>\n",
       "      <td>1</td>\n",
       "      <td>0</td>\n",
       "    </tr>\n",
       "    <tr>\n",
       "      <th>60</th>\n",
       "      <td>2</td>\n",
       "      <td>72000</td>\n",
       "      <td>12.0</td>\n",
       "      <td>8</td>\n",
       "      <td>1</td>\n",
       "      <td>3</td>\n",
       "      <td>1</td>\n",
       "      <td>1</td>\n",
       "    </tr>\n",
       "    <tr>\n",
       "      <th>61</th>\n",
       "      <td>2</td>\n",
       "      <td>99000</td>\n",
       "      <td>14.0</td>\n",
       "      <td>8</td>\n",
       "      <td>1</td>\n",
       "      <td>2</td>\n",
       "      <td>0</td>\n",
       "      <td>1</td>\n",
       "    </tr>\n",
       "    <tr>\n",
       "      <th>3</th>\n",
       "      <td>0</td>\n",
       "      <td>155000</td>\n",
       "      <td>14.0</td>\n",
       "      <td>9</td>\n",
       "      <td>8</td>\n",
       "      <td>4</td>\n",
       "      <td>1</td>\n",
       "      <td>0</td>\n",
       "    </tr>\n",
       "    <tr>\n",
       "      <th>56</th>\n",
       "      <td>2</td>\n",
       "      <td>44000</td>\n",
       "      <td>8.5</td>\n",
       "      <td>3</td>\n",
       "      <td>0</td>\n",
       "      <td>5</td>\n",
       "      <td>1</td>\n",
       "      <td>0</td>\n",
       "    </tr>\n",
       "    <tr>\n",
       "      <th>114</th>\n",
       "      <td>4</td>\n",
       "      <td>93000</td>\n",
       "      <td>14.0</td>\n",
       "      <td>5</td>\n",
       "      <td>4</td>\n",
       "      <td>2</td>\n",
       "      <td>0</td>\n",
       "      <td>1</td>\n",
       "    </tr>\n",
       "  </tbody>\n",
       "</table>\n",
       "</div>"
      ],
      "text/plain": [
       "     company  price_rupiah  diameter  topping  variant  size  extra_sauce  \\\n",
       "110        4         83000      17.0        2       15     0            0   \n",
       "95         3         23500       8.5        4        4     5            1   \n",
       "133        4         44000       8.5        3        0     5            1   \n",
       "36         1         75000      12.0        5        5     3            0   \n",
       "97         3         72000      14.0        9        4     2            1   \n",
       "60         2         72000      12.0        8        1     3            1   \n",
       "61         2         99000      14.0        8        1     2            0   \n",
       "3          0        155000      14.0        9        8     4            1   \n",
       "56         2         44000       8.5        3        0     5            1   \n",
       "114        4         93000      14.0        5        4     2            0   \n",
       "\n",
       "     extra_cheese  \n",
       "110             1  \n",
       "95              0  \n",
       "133             0  \n",
       "36              1  \n",
       "97              0  \n",
       "60              1  \n",
       "61              1  \n",
       "3               0  \n",
       "56              0  \n",
       "114             1  "
      ]
     },
     "execution_count": 24,
     "metadata": {},
     "output_type": "execute_result"
    }
   ],
   "source": [
    "# Encode Label using Sklearn\n",
    "\n",
    "EN=LabelEncoder()\n",
    "df['company'] = EN.fit_transform(df['company']) # \"A\":1, \"B\":2, \"C\":3, \"D\":4, \"E\":5\n",
    "df['topping'] = EN.fit_transform(df['topping']) # \"chicken\":1, \"Mozzarella\":2, dst\n",
    "df['variant'] = EN.fit_transform(df['variant']) # 'double_signature':1, dst\n",
    "df['size'] = EN.fit_transform(df['size']) # 'Regular':1, dst\n",
    "df['extra_sauce'] = EN.fit_transform(df['extra_sauce'])\n",
    "df['extra_cheese'] = EN.fit_transform(df['extra_cheese'])\n",
    "\n",
    "df.sample(10)"
   ]
  },
  {
   "cell_type": "code",
   "execution_count": 25,
   "id": "9a3f0603",
   "metadata": {},
   "outputs": [
    {
     "name": "stdout",
     "output_type": "stream",
     "text": [
      "<class 'pandas.core.frame.DataFrame'>\n",
      "Int64Index: 134 entries, 0 to 135\n",
      "Data columns (total 8 columns):\n",
      " #   Column        Non-Null Count  Dtype  \n",
      "---  ------        --------------  -----  \n",
      " 0   company       134 non-null    int32  \n",
      " 1   price_rupiah  134 non-null    int64  \n",
      " 2   diameter      134 non-null    float64\n",
      " 3   topping       134 non-null    int32  \n",
      " 4   variant       134 non-null    int32  \n",
      " 5   size          134 non-null    int32  \n",
      " 6   extra_sauce   134 non-null    int32  \n",
      " 7   extra_cheese  134 non-null    int32  \n",
      "dtypes: float64(1), int32(6), int64(1)\n",
      "memory usage: 6.3 KB\n"
     ]
    }
   ],
   "source": [
    "df.info()"
   ]
  },
  {
   "cell_type": "markdown",
   "id": "dfbcd68c",
   "metadata": {},
   "source": [
    "#### Correlation Heatmap"
   ]
  },
  {
   "cell_type": "code",
   "execution_count": 29,
   "id": "c52683cc",
   "metadata": {},
   "outputs": [
    {
     "data": {
      "text/plain": [
       "Text(0.5, 1.0, 'Correlation Heatmap')"
      ]
     },
     "execution_count": 29,
     "metadata": {},
     "output_type": "execute_result"
    },
    {
     "data": {
      "image/png": "[encoded data removed]",
      "text/plain": [
       "<Figure size 1080x720 with 2 Axes>"
      ]
     },
     "metadata": {
      "needs_background": "light"
     },
     "output_type": "display_data"
    }
   ],
   "source": [
    "plt.figure(figsize=(15,10))\n",
    "heatmap = sns.heatmap(df.corr(), annot=True)\n",
    "heatmap.set_title('Correlation Heatmap')"
   ]
  },
  {
   "cell_type": "markdown",
   "id": "057fa17e",
   "metadata": {},
   "source": [
    "#### SPLIT DATA"
   ]
  },
  {
   "cell_type": "code",
   "execution_count": 31,
   "id": "b813759a",
   "metadata": {},
   "outputs": [],
   "source": [
    "# split data untuk train dan test pada model\n",
    "x=df.drop(columns=['price_rupiah'])\n",
    "y=df['price_rupiah']"
   ]
  },
  {
   "cell_type": "markdown",
   "id": "6a7add54",
   "metadata": {},
   "source": [
    "#### BUILDING MODEL"
   ]
  },
  {
   "cell_type": "code",
   "execution_count": 32,
   "id": "a2393065",
   "metadata": {},
   "outputs": [],
   "source": [
    "reg = LinearRegression()\n",
    "x_train, x_test, y_train, y_test = train_test_split(x, y, test_size =0.2)"
   ]
  },
  {
   "cell_type": "code",
   "execution_count": 33,
   "id": "05b5152c",
   "metadata": {},
   "outputs": [],
   "source": [
    "reg=reg.fit(x_train, y_train) # fit the regression to training data"
   ]
  },
  {
   "cell_type": "code",
   "execution_count": 34,
   "id": "650bebaa",
   "metadata": {},
   "outputs": [
    {
     "name": "stdout",
     "output_type": "stream",
     "text": [
      "[ 36290.54310936 119716.7993358   80174.42737659 122867.52118573\n",
      "  64666.48514606  70386.82120977  67487.9658054  158616.02980314\n",
      " 164597.70902699  79945.6690411  109982.87396525 169467.36318202\n",
      "  95367.42211674  81764.3357129   39141.10065696  39861.97391325\n",
      "  43869.11547544  48287.59474909  71739.59736551 124220.6902699\n",
      "  64743.85989109 156133.26704897  43599.41710054 214377.81322128\n",
      "  94497.28416723 155840.46056398  72236.68366707]\n"
     ]
    }
   ],
   "source": [
    "y_pred=reg.predict(x_test)\n",
    "print(y_pred)"
   ]
  },
  {
   "cell_type": "markdown",
   "id": "ca305f9a",
   "metadata": {},
   "source": [
    "#### Linear Regression Formula"
   ]
  },
  {
   "cell_type": "code",
   "execution_count": 36,
   "id": "85054b83",
   "metadata": {},
   "outputs": [
    {
     "data": {
      "text/html": [
       "<div>\n",
       "<style scoped>\n",
       "    .dataframe tbody tr th:only-of-type {\n",
       "        vertical-align: middle;\n",
       "    }\n",
       "\n",
       "    .dataframe tbody tr th {\n",
       "        vertical-align: top;\n",
       "    }\n",
       "\n",
       "    .dataframe thead th {\n",
       "        text-align: right;\n",
       "    }\n",
       "</style>\n",
       "<table border=\"1\" class=\"dataframe\">\n",
       "  <thead>\n",
       "    <tr style=\"text-align: right;\">\n",
       "      <th></th>\n",
       "      <th>Coefficient</th>\n",
       "    </tr>\n",
       "  </thead>\n",
       "  <tbody>\n",
       "    <tr>\n",
       "      <th>company</th>\n",
       "      <td>-2821.480659</td>\n",
       "    </tr>\n",
       "    <tr>\n",
       "      <th>diameter</th>\n",
       "      <td>16056.111802</td>\n",
       "    </tr>\n",
       "    <tr>\n",
       "      <th>topping</th>\n",
       "      <td>695.664879</td>\n",
       "    </tr>\n",
       "    <tr>\n",
       "      <th>variant</th>\n",
       "      <td>237.132181</td>\n",
       "    </tr>\n",
       "    <tr>\n",
       "      <th>size</th>\n",
       "      <td>12391.911520</td>\n",
       "    </tr>\n",
       "    <tr>\n",
       "      <th>extra_sauce</th>\n",
       "      <td>4917.952012</td>\n",
       "    </tr>\n",
       "    <tr>\n",
       "      <th>extra_cheese</th>\n",
       "      <td>-1589.908336</td>\n",
       "    </tr>\n",
       "  </tbody>\n",
       "</table>\n",
       "</div>"
      ],
      "text/plain": [
       "               Coefficient\n",
       "company       -2821.480659\n",
       "diameter      16056.111802\n",
       "topping         695.664879\n",
       "variant         237.132181\n",
       "size          12391.911520\n",
       "extra_sauce    4917.952012\n",
       "extra_cheese  -1589.908336"
      ]
     },
     "execution_count": 36,
     "metadata": {},
     "output_type": "execute_result"
    }
   ],
   "source": [
    "coeff_df=pd.DataFrame(reg.coef_, x.columns, columns = ['Coefficient'])\n",
    "coeff_df"
   ]
  },
  {
   "cell_type": "code",
   "execution_count": 45,
   "id": "79dff2c4",
   "metadata": {},
   "outputs": [
    {
     "data": {
      "text/html": [
       "<div>\n",
       "<style scoped>\n",
       "    .dataframe tbody tr th:only-of-type {\n",
       "        vertical-align: middle;\n",
       "    }\n",
       "\n",
       "    .dataframe tbody tr th {\n",
       "        vertical-align: top;\n",
       "    }\n",
       "\n",
       "    .dataframe thead th {\n",
       "        text-align: right;\n",
       "    }\n",
       "</style>\n",
       "<table border=\"1\" class=\"dataframe\">\n",
       "  <thead>\n",
       "    <tr style=\"text-align: right;\">\n",
       "      <th></th>\n",
       "      <th>company</th>\n",
       "      <th>diameter</th>\n",
       "      <th>topping</th>\n",
       "      <th>variant</th>\n",
       "      <th>size</th>\n",
       "      <th>extra_sauce</th>\n",
       "      <th>extra_cheese</th>\n",
       "      <th>price_rupiah</th>\n",
       "      <th>PREDICTED_PRICE</th>\n",
       "    </tr>\n",
       "  </thead>\n",
       "  <tbody>\n",
       "    <tr>\n",
       "      <th>32</th>\n",
       "      <td>1</td>\n",
       "      <td>12.0</td>\n",
       "      <td>2</td>\n",
       "      <td>6</td>\n",
       "      <td>3</td>\n",
       "      <td>0</td>\n",
       "      <td>1</td>\n",
       "      <td>96000</td>\n",
       "      <td>70386.821210</td>\n",
       "    </tr>\n",
       "    <tr>\n",
       "      <th>0</th>\n",
       "      <td>0</td>\n",
       "      <td>22.0</td>\n",
       "      <td>2</td>\n",
       "      <td>8</td>\n",
       "      <td>1</td>\n",
       "      <td>1</td>\n",
       "      <td>1</td>\n",
       "      <td>235000</td>\n",
       "      <td>214377.813221</td>\n",
       "    </tr>\n",
       "    <tr>\n",
       "      <th>46</th>\n",
       "      <td>1</td>\n",
       "      <td>8.5</td>\n",
       "      <td>9</td>\n",
       "      <td>4</td>\n",
       "      <td>5</td>\n",
       "      <td>1</td>\n",
       "      <td>1</td>\n",
       "      <td>75000</td>\n",
       "      <td>48287.594749</td>\n",
       "    </tr>\n",
       "    <tr>\n",
       "      <th>12</th>\n",
       "      <td>0</td>\n",
       "      <td>16.0</td>\n",
       "      <td>1</td>\n",
       "      <td>18</td>\n",
       "      <td>1</td>\n",
       "      <td>1</td>\n",
       "      <td>1</td>\n",
       "      <td>110000</td>\n",
       "      <td>119716.799336</td>\n",
       "    </tr>\n",
       "    <tr>\n",
       "      <th>26</th>\n",
       "      <td>0</td>\n",
       "      <td>16.5</td>\n",
       "      <td>2</td>\n",
       "      <td>7</td>\n",
       "      <td>4</td>\n",
       "      <td>1</td>\n",
       "      <td>0</td>\n",
       "      <td>149000</td>\n",
       "      <td>164597.709027</td>\n",
       "    </tr>\n",
       "  </tbody>\n",
       "</table>\n",
       "</div>"
      ],
      "text/plain": [
       "    company  diameter  topping  variant  size  extra_sauce  extra_cheese  \\\n",
       "32        1      12.0        2        6     3            0             1   \n",
       "0         0      22.0        2        8     1            1             1   \n",
       "46        1       8.5        9        4     5            1             1   \n",
       "12        0      16.0        1       18     1            1             1   \n",
       "26        0      16.5        2        7     4            1             0   \n",
       "\n",
       "    price_rupiah  PREDICTED_PRICE  \n",
       "32         96000     70386.821210  \n",
       "0         235000    214377.813221  \n",
       "46         75000     48287.594749  \n",
       "12        110000    119716.799336  \n",
       "26        149000    164597.709027  "
      ]
     },
     "execution_count": 45,
     "metadata": {},
     "output_type": "execute_result"
    }
   ],
   "source": [
    "df_test_set = x_test\n",
    "df_test_set = df_test_set.join(y_test)\n",
    "df_test_set['PREDICTED_PRICE']=y_pred\n",
    "df_test_set.sample(5)"
   ]
  },
  {
   "cell_type": "markdown",
   "id": "8468226c",
   "metadata": {},
   "source": []
  },
  {
   "cell_type": "code",
   "execution_count": null,
   "id": "51dd603b",
   "metadata": {},
   "outputs": [],
   "source": []
  },
  {
   "cell_type": "code",
   "execution_count": 52,
   "id": "e2158e59",
   "metadata": {},
   "outputs": [
    {
     "data": {
      "text/plain": [
       "Text(0, 0.5, 'Predicted Price')"
      ]
     },
     "execution_count": 52,
     "metadata": {},
     "output_type": "execute_result"
    },
    {
     "data": {
      "image/png": "[encoded data removed]",
      "text/plain": [
       "<Figure size 1080x720 with 1 Axes>"
      ]
     },
     "metadata": {
      "needs_background": "light"
     },
     "output_type": "display_data"
    }
   ],
   "source": [
    "plt.figure(figsize=(15,10))\n",
    "colors=np.random.rand(27)\n",
    "plt.scatter(df_test_set['price_rupiah'], df_test_set['PREDICTED_PRICE'], c=colors)\n",
    "plt.title('Actual Price vs Predicted Price')\n",
    "plt.xlabel('Actual Price')\n",
    "plt.ylabel('Predicted Price')"
   ]
  },
  {
   "cell_type": "code",
   "execution_count": 55,
   "id": "1e3f9256",
   "metadata": {},
   "outputs": [
    {
     "data": {
      "text/html": [
       "<div>\n",
       "<style scoped>\n",
       "    .dataframe tbody tr th:only-of-type {\n",
       "        vertical-align: middle;\n",
       "    }\n",
       "\n",
       "    .dataframe tbody tr th {\n",
       "        vertical-align: top;\n",
       "    }\n",
       "\n",
       "    .dataframe thead th {\n",
       "        text-align: right;\n",
       "    }\n",
       "</style>\n",
       "<table border=\"1\" class=\"dataframe\">\n",
       "  <thead>\n",
       "    <tr style=\"text-align: right;\">\n",
       "      <th></th>\n",
       "      <th>Actual Price</th>\n",
       "      <th>Predicted Price</th>\n",
       "    </tr>\n",
       "  </thead>\n",
       "  <tbody>\n",
       "    <tr>\n",
       "      <th>26</th>\n",
       "      <td>149000</td>\n",
       "      <td>164597.709027</td>\n",
       "    </tr>\n",
       "    <tr>\n",
       "      <th>101</th>\n",
       "      <td>31000</td>\n",
       "      <td>39861.973913</td>\n",
       "    </tr>\n",
       "    <tr>\n",
       "      <th>59</th>\n",
       "      <td>39000</td>\n",
       "      <td>39141.100657</td>\n",
       "    </tr>\n",
       "    <tr>\n",
       "      <th>72</th>\n",
       "      <td>28000</td>\n",
       "      <td>43599.417101</td>\n",
       "    </tr>\n",
       "    <tr>\n",
       "      <th>24</th>\n",
       "      <td>114000</td>\n",
       "      <td>122867.521186</td>\n",
       "    </tr>\n",
       "    <tr>\n",
       "      <th>0</th>\n",
       "      <td>235000</td>\n",
       "      <td>214377.813221</td>\n",
       "    </tr>\n",
       "    <tr>\n",
       "      <th>12</th>\n",
       "      <td>110000</td>\n",
       "      <td>119716.799336</td>\n",
       "    </tr>\n",
       "    <tr>\n",
       "      <th>46</th>\n",
       "      <td>75000</td>\n",
       "      <td>48287.594749</td>\n",
       "    </tr>\n",
       "    <tr>\n",
       "      <th>98</th>\n",
       "      <td>49000</td>\n",
       "      <td>67487.965805</td>\n",
       "    </tr>\n",
       "    <tr>\n",
       "      <th>44</th>\n",
       "      <td>119000</td>\n",
       "      <td>124220.690270</td>\n",
       "    </tr>\n",
       "  </tbody>\n",
       "</table>\n",
       "</div>"
      ],
      "text/plain": [
       "     Actual Price  Predicted Price\n",
       "26         149000    164597.709027\n",
       "101         31000     39861.973913\n",
       "59          39000     39141.100657\n",
       "72          28000     43599.417101\n",
       "24         114000    122867.521186\n",
       "0          235000    214377.813221\n",
       "12         110000    119716.799336\n",
       "46          75000     48287.594749\n",
       "98          49000     67487.965805\n",
       "44         119000    124220.690270"
      ]
     },
     "execution_count": 55,
     "metadata": {},
     "output_type": "execute_result"
    }
   ],
   "source": [
    "output = pd.DataFrame({'Actual Price': y_test, 'Predicted Price':y_pred})\n",
    "output = output.sort_values(by = 'Actual Price')\n",
    "output.sample(10)"
   ]
  },
  {
   "cell_type": "code",
   "execution_count": 56,
   "id": "2244d3e2",
   "metadata": {},
   "outputs": [
    {
     "name": "stdout",
     "output_type": "stream",
     "text": [
      "Training Model : 0.7391101120679732\n",
      "Testing Model : 0.8171322672617529\n"
     ]
    }
   ],
   "source": [
    "print(\"Training Model :\", reg.score(x_train, y_train))\n",
    "print(\"Testing Model :\", reg.score(x_test, y_test))"
   ]
  },
  {
   "cell_type": "code",
   "execution_count": 57,
   "id": "7148406e",
   "metadata": {},
   "outputs": [
    {
     "name": "stdout",
     "output_type": "stream",
     "text": [
      "R2 Score : 0.8171322672617529\n"
     ]
    }
   ],
   "source": [
    "from sklearn import metrics\n",
    "print(\"R2 Score :\",metrics.r2_score(y_test, y_pred))"
   ]
  },
  {
   "cell_type": "code",
   "execution_count": 58,
   "id": "90e5095e",
   "metadata": {},
   "outputs": [],
   "source": [
    "output.to_csv(\"Price Prediction with Linear Regression.csv\", index=False)"
   ]
  },
  {
   "cell_type": "code",
   "execution_count": null,
   "id": "cf1091a5",
   "metadata": {},
   "outputs": [],
   "source": []
  }
 ],
 "metadata": {
  "kernelspec": {
   "display_name": "Python 3 (ipykernel)",
   "language": "python",
   "name": "python3"
  },
  "language_info": {
   "codemirror_mode": {
    "name": "ipython",
    "version": 3
   },
   "file_extension": ".py",
   "mimetype": "text/x-python",
   "name": "python",
   "nbconvert_exporter": "python",
   "pygments_lexer": "ipython3",
   "version": "3.10.4"
  }
 },
 "nbformat": 4,
 "nbformat_minor": 5
}
